{
 "cells": [
  {
   "cell_type": "code",
   "execution_count": 8,
   "metadata": {},
   "outputs": [
    {
     "name": "stdout",
     "output_type": "stream",
     "text": [
      "* 신발\n",
      "전체\n",
      "* 아우터\n",
      "재킷\n",
      "폴리스\n",
      "코트\n",
      "패딩\n",
      "기타\n",
      "* 상의\n",
      "티셔츠\n",
      "셔츠\n",
      "니트\n",
      "* 하의\n",
      "팬츠\n",
      "원피스\n",
      "스커트\n"
     ]
    }
   ],
   "source": [
    "from musinsa_mappingtable import CATEGORY2DEPTH_MAPPING\n",
    "\n",
    "for key in CATEGORY2DEPTH_MAPPING:\n",
    "    category2depth = key\n",
    "    print(\"*\",category2depth)\n",
    "    for key in CATEGORY2DEPTH_MAPPING[category2depth]:\n",
    "        \n"
   ]
  }
 ],
 "metadata": {
  "kernelspec": {
   "display_name": "DjangoProject",
   "language": "python",
   "name": "python3"
  },
  "language_info": {
   "codemirror_mode": {
    "name": "ipython",
    "version": 3
   },
   "file_extension": ".py",
   "mimetype": "text/x-python",
   "name": "python",
   "nbconvert_exporter": "python",
   "pygments_lexer": "ipython3",
   "version": "3.11.10"
  }
 },
 "nbformat": 4,
 "nbformat_minor": 2
}
