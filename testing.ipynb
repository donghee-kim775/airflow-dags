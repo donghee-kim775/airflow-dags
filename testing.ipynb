{
 "cells": [
  {
   "cell_type": "code",
   "execution_count": 5,
   "metadata": {},
   "outputs": [
    {
     "name": "stdout",
     "output_type": "stream",
     "text": [
      "전체\n",
      "['구두', '부츠&워커', '샌들&슬리퍼', '스니커즈', '스포츠화', '패딩&퍼 신발']\n",
      "재킷\n",
      "['블루종&MA-1', '스타디움 재킷', '레더&라이더스 재킷', '나일론&코치 재킷', '데님&트러커 재킷', '후드집업', '트레이닝 재킷', '아노락 재킷']\n",
      "폴리스\n",
      "['폴리스&뽀글이', '무스탕&퍼 재킷']\n",
      "코트\n",
      "['겨울 싱글 코트', '겨울 더블 코트', '트렌치코트']\n",
      "패딩\n",
      "['숏패딩', '롱패딩', '패딩 베스트', '경량패딩']\n",
      "기타\n",
      "['기타 아우터']\n",
      "티셔츠\n",
      "['반소매 티셔츠', '긴소매 티셔츠', '민소매 티셔츠', '맨투맨&스웨트', '후드 티셔츠']\n",
      "셔츠\n",
      "['셔츠&블라우스']\n",
      "니트\n",
      "['니트&스웨터', '가디건']\n",
      "팬츠\n",
      "['슈트 팬츠&슬랙스', '트레이닝', '숏팬츠', '레깅스', '코튼', '데님', '기타 하의']\n",
      "원피스\n",
      "['미니원피스', '미디원피스', '맥시원피스']\n",
      "스커트\n",
      "['미니스커트', '미디스커트', '롱스커트']\n"
     ]
    }
   ],
   "source": [
    "from musinsa_mappingtable import CATEGORY2DEPTH_MAPPING\n",
    "\n",
    "for key in CATEGORY2DEPTH_MAPPING:\n",
    "    category2depth = key\n",
    "    category3depth_list = list(CATEGORY2DEPTH_MAPPING[key].items())\n",
    "\n",
    "    for category3depth in category3depth_list:\n",
    "        print(category3depth[0])\n",
    "        print(category3depth[1])\n"
   ]
  }
 ],
 "metadata": {
  "kernelspec": {
   "display_name": "DjangoProject",
   "language": "python",
   "name": "python3"
  },
  "language_info": {
   "codemirror_mode": {
    "name": "ipython",
    "version": 3
   },
   "file_extension": ".py",
   "mimetype": "text/x-python",
   "name": "python",
   "nbconvert_exporter": "python",
   "pygments_lexer": "ipython3",
   "version": "3.11.10"
  }
 },
 "nbformat": 4,
 "nbformat_minor": 2
}
