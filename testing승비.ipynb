{
 "cells": [
  {
   "cell_type": "code",
   "execution_count": 57,
   "metadata": {},
   "outputs": [
    {
     "name": "stdout",
     "output_type": "stream",
     "text": [
      "list안에 요소들은  [10, 5, 78, 8, 5, 2, 3]\n",
      "리스트의 길이 즉, 요소 개수는  7\n",
      "15.857142857142858\n"
     ]
    }
   ],
   "source": [
    "a = int(input(\"몇개의 과목을 받을거야?\"))\n",
    "list = []\n",
    "for i in range(a):\n",
    "    a = int(input())\n",
    "    list.append(a)\n",
    "\n",
    "total = 0\n",
    "for i in list:\n",
    "    total = total+i\n",
    "\n",
    "print(\"list안에 요소들은 \", list)\n",
    "count = len(list)\n",
    "print(\"리스트의 길이 즉, 요소 개수는 \", count)\n",
    "\n",
    "print(total/count)"
   ]
  },
  {
   "cell_type": "code",
   "execution_count": 62,
   "metadata": {},
   "outputs": [
    {
     "name": "stdout",
     "output_type": "stream",
     "text": [
      "==\n"
     ]
    }
   ],
   "source": [
    "A, B = map(int, input().split())\n",
    "if A>B:\n",
    "    print(\">\")\n",
    "elif A<B:\n",
    "    print(\"<\")\n",
    "else:\n",
    "    print(\"==\")"
   ]
  }
 ],
 "metadata": {
  "kernelspec": {
   "display_name": "DjangoProject",
   "language": "python",
   "name": "python3"
  },
  "language_info": {
   "codemirror_mode": {
    "name": "ipython",
    "version": 3
   },
   "file_extension": ".py",
   "mimetype": "text/x-python",
   "name": "python",
   "nbconvert_exporter": "python",
   "pygments_lexer": "ipython3",
   "version": "3.11.10"
  }
 },
 "nbformat": 4,
 "nbformat_minor": 2
}
