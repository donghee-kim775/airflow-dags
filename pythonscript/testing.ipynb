{
 "cells": [
  {
   "cell_type": "code",
   "execution_count": 2,
   "metadata": {},
   "outputs": [
    {
     "name": "stdout",
     "output_type": "stream",
     "text": [
      "Collecting pendulum\n",
      "  Downloading pendulum-3.0.0-cp311-none-win_amd64.whl.metadata (7.0 kB)\n",
      "Requirement already satisfied: python-dateutil>=2.6 in c:\\users\\dcu\\anaconda3\\envs\\djangoproject\\lib\\site-packages (from pendulum) (2.9.0.post0)\n",
      "Requirement already satisfied: tzdata>=2020.1 in c:\\users\\dcu\\anaconda3\\envs\\djangoproject\\lib\\site-packages (from pendulum) (2023.3)\n",
      "Collecting time-machine>=2.6.0 (from pendulum)\n",
      "  Downloading time_machine-2.16.0-cp311-cp311-win_amd64.whl.metadata (21 kB)\n",
      "Requirement already satisfied: six>=1.5 in c:\\users\\dcu\\anaconda3\\envs\\djangoproject\\lib\\site-packages (from python-dateutil>=2.6->pendulum) (1.16.0)\n",
      "Downloading pendulum-3.0.0-cp311-none-win_amd64.whl (293 kB)\n",
      "Downloading time_machine-2.16.0-cp311-cp311-win_amd64.whl (19 kB)\n",
      "Installing collected packages: time-machine, pendulum\n",
      "Successfully installed pendulum-3.0.0 time-machine-2.16.0\n"
     ]
    }
   ],
   "source": [
    "!pip install pendulum"
   ]
  },
  {
   "cell_type": "code",
   "execution_count": 60,
   "metadata": {},
   "outputs": [
    {
     "data": {
      "text/plain": [
       "<meta content=\"https://image.msscdn.net/images/goods_img/20160609/367444/367444_1_500.jpg\" id=\"fbOgImage\" property=\"og:image\"/>"
      ]
     },
     "execution_count": 60,
     "metadata": {},
     "output_type": "execute_result"
    }
   ],
   "source": [
    "import requests\n",
    "from modules.config import Musinsa_Config\n",
    "from bs4 import BeautifulSoup\n",
    "\n",
    "product_id = 367444\n",
    "url = f\"https://www.musinsa.com/products/{product_id}\"\n",
    "\n",
    "response = requests.get(url, headers=Musinsa_Config.HEADERS)\n",
    "    \n",
    "soup = BeautifulSoup(response.text, features=\"html.parser\")\n",
    "image_tag = soup.find('meta', attrs={'property': 'og:image'})\n",
    "meta_tag\n"
   ]
  }
 ],
 "metadata": {
  "kernelspec": {
   "display_name": "DjangoProject",
   "language": "python",
   "name": "python3"
  },
  "language_info": {
   "codemirror_mode": {
    "name": "ipython",
    "version": 3
   },
   "file_extension": ".py",
   "mimetype": "text/x-python",
   "name": "python",
   "nbconvert_exporter": "python",
   "pygments_lexer": "ipython3",
   "version": "3.11.10"
  }
 },
 "nbformat": 4,
 "nbformat_minor": 2
}
