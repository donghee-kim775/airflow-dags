{
 "cells": [
  {
   "cell_type": "code",
   "execution_count": 2,
   "metadata": {},
   "outputs": [
    {
     "name": "stdout",
     "output_type": "stream",
     "text": [
      "Collecting pendulum\n",
      "  Downloading pendulum-3.0.0-cp311-none-win_amd64.whl.metadata (7.0 kB)\n",
      "Requirement already satisfied: python-dateutil>=2.6 in c:\\users\\dcu\\anaconda3\\envs\\djangoproject\\lib\\site-packages (from pendulum) (2.9.0.post0)\n",
      "Requirement already satisfied: tzdata>=2020.1 in c:\\users\\dcu\\anaconda3\\envs\\djangoproject\\lib\\site-packages (from pendulum) (2023.3)\n",
      "Collecting time-machine>=2.6.0 (from pendulum)\n",
      "  Downloading time_machine-2.16.0-cp311-cp311-win_amd64.whl.metadata (21 kB)\n",
      "Requirement already satisfied: six>=1.5 in c:\\users\\dcu\\anaconda3\\envs\\djangoproject\\lib\\site-packages (from python-dateutil>=2.6->pendulum) (1.16.0)\n",
      "Downloading pendulum-3.0.0-cp311-none-win_amd64.whl (293 kB)\n",
      "Downloading time_machine-2.16.0-cp311-cp311-win_amd64.whl (19 kB)\n",
      "Installing collected packages: time-machine, pendulum\n",
      "Successfully installed pendulum-3.0.0 time-machine-2.16.0\n"
     ]
    }
   ],
   "source": [
    "!pip install pendulum"
   ]
  },
  {
   "cell_type": "code",
   "execution_count": 54,
   "metadata": {},
   "outputs": [
    {
     "data": {
      "text/plain": [
       "79"
      ]
     },
     "execution_count": 54,
     "metadata": {},
     "output_type": "execute_result"
    }
   ],
   "source": [
    "import modules.s3_module as s3_module\n",
    "import re\n",
    "import pyarrow.fs as fs\n",
    "from modules.config import Musinsa_Config\n",
    "import pyarrow.parquet as pq\n",
    "\n",
    "s3 = s3_module.connect_s3fs()\n",
    "\n",
    "def connect_s3fs():\n",
    "    s3 = fs.S3FileSystem(\n",
    "        access_key=AWS_Config.AWS_ACCESS_KEY_ID,\n",
    "        secret_key=AWS_Config.AWS_SECRET_ACCESS_KEY,\n",
    "        region=AWS_Config.REGION,\n",
    "        endpoint_override='https://s3.ap-northeast-2.amazonaws.com'  \n",
    "    )\n",
    "    return s3\n",
    "\n",
    "def get_product_ids(s3_path):\n",
    "    dataset = pq.ParquetDataset(s3_path, filesystem=connect_s3fs())\n",
    "    table = dataset.read(columns=['product_id'])\n",
    "    \n",
    "    product_ids = table['product_id'].to_pylist()\n",
    "    \n",
    "    return product_ids\n",
    "\n",
    "bucket_path = \"project4-silver-data/\"\n",
    "\n",
    "file_key = f\"{Musinsa_Config.today_date}/Musinsa/RankingData/전체/\"\n",
    "\n",
    "path = bucket_path + file_key\n",
    "\n",
    "files = s3.get_file_info(fs.FileSelector(base_dir=path, recursive=True))\n",
    "\n",
    "category4depth = \"스니커즈\"\n",
    "# 패턴에 맞는 파일 경로 리스트 생성\n",
    "\n",
    "directory_pattern = re.compile(rf'.*{category4depth}\\.parquet$')\n",
    "directories = [file for file in files if file.type == fs.FileType.Directory and directory_pattern.match(file.path)]\n",
    "\n",
    "product_ids = []\n",
    "for directory in directories:\n",
    "    temp_ids = get_product_ids(directory.path)\n",
    "    product_ids += temp_ids\n",
    "    \n",
    "len(set(product_ids)"
   ]
  },
  {
   "cell_type": "code",
   "execution_count": null,
   "metadata": {},
   "outputs": [],
   "source": []
  }
 ],
 "metadata": {
  "kernelspec": {
   "display_name": "DjangoProject",
   "language": "python",
   "name": "python3"
  },
  "language_info": {
   "codemirror_mode": {
    "name": "ipython",
    "version": 3
   },
   "file_extension": ".py",
   "mimetype": "text/x-python",
   "name": "python",
   "nbconvert_exporter": "python",
   "pygments_lexer": "ipython3",
   "version": "3.11.10"
  }
 },
 "nbformat": 4,
 "nbformat_minor": 2
}
