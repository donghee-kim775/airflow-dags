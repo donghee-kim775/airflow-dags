{
 "cells": [
  {
   "cell_type": "code",
   "execution_count": 57,
   "metadata": {},
   "outputs": [
    {
     "name": "stdout",
     "output_type": "stream",
     "text": [
      "list안에 요소들은  [10, 5, 78, 8, 5, 2, 3]\n",
      "리스트의 길이 즉, 요소 개수는  7\n",
      "15.857142857142858\n"
     ]
    }
   ],
   "source": [
    "a = int(input(\"몇개의 과목을 받을거야?\"))\n",
    "list = []\n",
    "for i in range(a):\n",
    "    a = int(input())\n",
    "    list.append(a)\n",
    "\n",
    "total = 0\n",
    "for i in list:\n",
    "    total = total+i\n",
    "\n",
    "print(\"list안에 요소들은 \", list)\n",
    "count = len(list)\n",
    "print(\"리스트의 길이 즉, 요소 개수는 \", count)\n",
    "\n",
    "print(total/count)"
   ]
  },
  {
   "cell_type": "code",
   "execution_count": 62,
   "metadata": {},
   "outputs": [
    {
     "name": "stdout",
     "output_type": "stream",
     "text": [
      "==\n"
     ]
    }
   ],
   "source": [
    "A, B = map(int, input().split())\n",
    "if A>B:\n",
    "    print(\">\")\n",
    "elif A<B:\n",
    "    print(\"<\")\n",
    "else:\n",
    "    print(\"==\")"
   ]
  },
  {
   "cell_type": "code",
   "execution_count": 12,
   "metadata": {},
   "outputs": [
    {
     "data": {
      "text/plain": [
       "{'id': 'NO_RESULT-9dcad877-f175-4773-a1fc-61512020d7dd',\n",
       " 'textInfo': {'title': {'text': '상품을 준비 중입니다.'},\n",
       "  'subTitle': {'text': '준비되는 동안 다른 메뉴를 확인해 보세요.'}},\n",
       " 'type': 'NO_RESULT'}"
      ]
     },
     "execution_count": 12,
     "metadata": {},
     "output_type": "execute_result"
    }
   ],
   "source": [
    "import pandas as pd\n",
    "import json\n",
    "# 파일을 열고 JSON 데이터를 로드합니다.\n",
    "with open(\"C:/Users/DCU/Desktop/airflow-dags/여성_하의_스커트_미디스커트.json\", \"r\", encoding=\"utf-8\") as file:\n",
    "    data = json.load(file)\n",
    "\n",
    "# 데이터 확인\n",
    "data['data']['modules'][1]"
   ]
  },
  {
   "cell_type": "code",
   "execution_count": 17,
   "metadata": {},
   "outputs": [
    {
     "name": "stdout",
     "output_type": "stream",
     "text": [
      "Collecting boto3\n",
      "  Downloading boto3-1.35.93-py3-none-any.whl.metadata (6.7 kB)\n",
      "Collecting botocore<1.36.0,>=1.35.93 (from boto3)\n",
      "  Downloading botocore-1.35.93-py3-none-any.whl.metadata (5.7 kB)\n",
      "Requirement already satisfied: jmespath<2.0.0,>=0.7.1 in c:\\users\\dcu\\anaconda3\\envs\\djangoproject\\lib\\site-packages (from boto3) (1.0.1)\n",
      "Collecting s3transfer<0.11.0,>=0.10.0 (from boto3)\n",
      "  Using cached s3transfer-0.10.4-py3-none-any.whl.metadata (1.7 kB)\n",
      "Requirement already satisfied: python-dateutil<3.0.0,>=2.1 in c:\\users\\dcu\\anaconda3\\envs\\djangoproject\\lib\\site-packages (from botocore<1.36.0,>=1.35.93->boto3) (2.9.0.post0)\n",
      "Requirement already satisfied: urllib3!=2.2.0,<3,>=1.25.4 in c:\\users\\dcu\\anaconda3\\envs\\djangoproject\\lib\\site-packages (from botocore<1.36.0,>=1.35.93->boto3) (2.2.3)\n",
      "Requirement already satisfied: six>=1.5 in c:\\users\\dcu\\anaconda3\\envs\\djangoproject\\lib\\site-packages (from python-dateutil<3.0.0,>=2.1->botocore<1.36.0,>=1.35.93->boto3) (1.16.0)\n",
      "Downloading boto3-1.35.93-py3-none-any.whl (139 kB)\n",
      "Downloading botocore-1.35.93-py3-none-any.whl (13.3 MB)\n",
      "   ---------------------------------------- 0.0/13.3 MB ? eta -:--:--\n",
      "   ------- -------------------------------- 2.4/13.3 MB 12.2 MB/s eta 0:00:01\n",
      "   ----------------- ---------------------- 5.8/13.3 MB 16.0 MB/s eta 0:00:01\n",
      "   --------------------------- ------------ 9.2/13.3 MB 15.4 MB/s eta 0:00:01\n",
      "   ---------------------------------------  13.1/13.3 MB 16.1 MB/s eta 0:00:01\n",
      "   ---------------------------------------- 13.3/13.3 MB 14.9 MB/s eta 0:00:00\n",
      "Using cached s3transfer-0.10.4-py3-none-any.whl (83 kB)\n",
      "Installing collected packages: botocore, s3transfer, boto3\n",
      "  Attempting uninstall: botocore\n",
      "    Found existing installation: botocore 1.35.88\n",
      "    Uninstalling botocore-1.35.88:\n",
      "      Successfully uninstalled botocore-1.35.88\n",
      "Successfully installed boto3-1.35.93 botocore-1.35.93 s3transfer-0.10.4\n"
     ]
    },
    {
     "name": "stderr",
     "output_type": "stream",
     "text": [
      "ERROR: pip's dependency resolver does not currently take into account all the packages that are installed. This behaviour is the source of the following dependency conflicts.\n",
      "aiobotocore 2.16.1 requires botocore<1.35.89,>=1.35.74, but you have botocore 1.35.93 which is incompatible.\n"
     ]
    }
   ],
   "source": [
    "!pip install boto3"
   ]
  },
  {
   "cell_type": "code",
   "execution_count": null,
   "metadata": {},
   "outputs": [
    {
     "name": "stdout",
     "output_type": "stream",
     "text": [
      "50\n",
      "[3576758, 4002983, 4500095, 3583663, 4209447, 4278902, 4516351, 4553898, 4506476, 4280287, 3238559, 3450857, 3771691, 3518760, 3812667, 4344259, 4440000, 4299540, 4375133, 3836735, 4320212, 1223884, 4287892, 4403558, 4420951, 4252204, 4308610, 4287419, 4287413, 4287410, 1790382, 3622977, 401149, 3466541, 3802459, 4300024, 3059521, 3898494, 3899228, 4252198, 3466533, 3046279, 4300012, 3832994, 4344269, 4300049, 4386389, 4009288, 3065000, 2775794]\n"
     ]
    }
   ],
   "source": [
    "import pyarrow.parquet as pq\n",
    "import pyarrow.fs as fs\n",
    "import boto3\n",
    "import s3fs\n",
    "import boto3\n",
    "\n",
    "session = boto3.Session(\n",
    "    aws_access_key_id=\"\",\n",
    "    aws_secret_access_key=\"\",\n",
    "    region_name='ap-northeast-2'\n",
    ")\n",
    "\n",
    "# s3fs 파일 시스템 생성\n",
    "s3 = fs.S3FileSystem(\n",
    "            access_key=\n",
    "            secret_key=\n",
    "            region='ap-northeast-2',  # 올바른 리전 설정 (default : us-east-1)\n",
    "            endpoint_override='https://s3.ap-northeast-2.amazonaws.com'  # 엔드포인트 설정    \n",
    "    )\n",
    "\n",
    "bucket_name = \"project4-silver-data\"\n",
    "key = \"2025-01-08/Musinsa/RankingData/재킷/여성_아우터_재킷_데님&트러커 재킷.parquet\"\n",
    "\n",
    "# 전체 디렉토리를 읽기 위해 경로를 지정합니다.\n",
    "s3_path = f\"{bucket_name}/{key}\"\n",
    "\n",
    "# S3에서 Parquet 파일 읽기\n",
    "dataset = pq.ParquetDataset(s3_path, filesystem=s3)\n",
    "table = dataset.read(columns=['product_id'])\n",
    "\n",
    "# product_id 컬럼을 리스트로 변환\n",
    "product_ids = table['product_id'].to_pylist()\n",
    "\n",
    "print(len(product_ids))\n",
    "\n",
    "print(product_ids)"
   ]
  }
 ],
 "metadata": {
  "kernelspec": {
   "display_name": "DjangoProject",
   "language": "python",
   "name": "python3"
  },
  "language_info": {
   "codemirror_mode": {
    "name": "ipython",
    "version": 3
   },
   "file_extension": ".py",
   "mimetype": "text/x-python",
   "name": "python",
   "nbconvert_exporter": "python",
   "pygments_lexer": "ipython3",
   "version": "3.11.10"
  }
 },
 "nbformat": 4,
 "nbformat_minor": 2
}
